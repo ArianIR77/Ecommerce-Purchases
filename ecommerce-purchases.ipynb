{
 "cells": [
  {
   "cell_type": "code",
   "execution_count": 1,
   "id": "6ffdff3c",
   "metadata": {
    "_cell_guid": "b1076dfc-b9ad-4769-8c92-a6c4dae69d19",
    "_uuid": "8f2839f25d086af736a60e9eeb907d3b93b6e0e5",
    "execution": {
     "iopub.execute_input": "2022-07-18T18:38:22.563918Z",
     "iopub.status.busy": "2022-07-18T18:38:22.563477Z",
     "iopub.status.idle": "2022-07-18T18:38:22.582754Z",
     "shell.execute_reply": "2022-07-18T18:38:22.581830Z"
    },
    "papermill": {
     "duration": 0.033476,
     "end_time": "2022-07-18T18:38:22.585336",
     "exception": false,
     "start_time": "2022-07-18T18:38:22.551860",
     "status": "completed"
    },
    "tags": []
   },
   "outputs": [
    {
     "name": "stdout",
     "output_type": "stream",
     "text": [
      "/kaggle/input/ecommerce/Ecommerce Purchases\n"
     ]
    }
   ],
   "source": [
    "# This Python 3 environment comes with many helpful analytics libraries installed\n",
    "# It is defined by the kaggle/python Docker image: https://github.com/kaggle/docker-python\n",
    "# For example, here's several helpful packages to load\n",
    "\n",
    "import numpy as np # linear algebra\n",
    "import pandas as pd # data processing, CSV file I/O (e.g. pd.read_csv)\n",
    "\n",
    "# Input data files are available in the read-only \"../input/\" directory\n",
    "# For example, running this (by clicking run or pressing Shift+Enter) will list all files under the input directory\n",
    "\n",
    "import os\n",
    "for dirname, _, filenames in os.walk('/kaggle/input'):\n",
    "    for filename in filenames:\n",
    "        print(os.path.join(dirname, filename))\n",
    "\n",
    "# You can write up to 20GB to the current directory (/kaggle/working/) that gets preserved as output when you create a version using \"Save & Run All\" \n",
    "# You can also write temporary files to /kaggle/temp/, but they won't be saved outside of the current session"
   ]
  },
  {
   "cell_type": "code",
   "execution_count": 2,
   "id": "6f65c832",
   "metadata": {
    "execution": {
     "iopub.execute_input": "2022-07-18T18:38:22.599663Z",
     "iopub.status.busy": "2022-07-18T18:38:22.598988Z",
     "iopub.status.idle": "2022-07-18T18:38:22.603648Z",
     "shell.execute_reply": "2022-07-18T18:38:22.602998Z"
    },
    "papermill": {
     "duration": 0.013825,
     "end_time": "2022-07-18T18:38:22.605495",
     "exception": false,
     "start_time": "2022-07-18T18:38:22.591670",
     "status": "completed"
    },
    "tags": []
   },
   "outputs": [],
   "source": [
    "import pandas as pd"
   ]
  },
  {
   "cell_type": "code",
   "execution_count": 3,
   "id": "581c102b",
   "metadata": {
    "execution": {
     "iopub.execute_input": "2022-07-18T18:38:22.619288Z",
     "iopub.status.busy": "2022-07-18T18:38:22.618893Z",
     "iopub.status.idle": "2022-07-18T18:38:22.719465Z",
     "shell.execute_reply": "2022-07-18T18:38:22.718580Z"
    },
    "papermill": {
     "duration": 0.110319,
     "end_time": "2022-07-18T18:38:22.721876",
     "exception": false,
     "start_time": "2022-07-18T18:38:22.611557",
     "status": "completed"
    },
    "tags": []
   },
   "outputs": [],
   "source": [
    "df = pd.read_csv('../input/ecommerce/Ecommerce Purchases')"
   ]
  },
  {
   "cell_type": "code",
   "execution_count": 4,
   "id": "de3d222f",
   "metadata": {
    "execution": {
     "iopub.execute_input": "2022-07-18T18:38:22.736626Z",
     "iopub.status.busy": "2022-07-18T18:38:22.736188Z",
     "iopub.status.idle": "2022-07-18T18:38:22.764716Z",
     "shell.execute_reply": "2022-07-18T18:38:22.763761Z"
    },
    "papermill": {
     "duration": 0.038807,
     "end_time": "2022-07-18T18:38:22.767079",
     "exception": false,
     "start_time": "2022-07-18T18:38:22.728272",
     "status": "completed"
    },
    "tags": []
   },
   "outputs": [
    {
     "data": {
      "text/html": [
       "<div>\n",
       "<style scoped>\n",
       "    .dataframe tbody tr th:only-of-type {\n",
       "        vertical-align: middle;\n",
       "    }\n",
       "\n",
       "    .dataframe tbody tr th {\n",
       "        vertical-align: top;\n",
       "    }\n",
       "\n",
       "    .dataframe thead th {\n",
       "        text-align: right;\n",
       "    }\n",
       "</style>\n",
       "<table border=\"1\" class=\"dataframe\">\n",
       "  <thead>\n",
       "    <tr style=\"text-align: right;\">\n",
       "      <th></th>\n",
       "      <th>Address</th>\n",
       "      <th>Lot</th>\n",
       "      <th>AM or PM</th>\n",
       "      <th>Browser Info</th>\n",
       "      <th>Company</th>\n",
       "      <th>Credit Card</th>\n",
       "      <th>CC Exp Date</th>\n",
       "      <th>CC Security Code</th>\n",
       "      <th>CC Provider</th>\n",
       "      <th>Email</th>\n",
       "      <th>Job</th>\n",
       "      <th>IP Address</th>\n",
       "      <th>Language</th>\n",
       "      <th>Purchase Price</th>\n",
       "    </tr>\n",
       "  </thead>\n",
       "  <tbody>\n",
       "    <tr>\n",
       "      <th>0</th>\n",
       "      <td>16629 Pace Camp Apt. 448\\nAlexisborough, NE 77...</td>\n",
       "      <td>46 in</td>\n",
       "      <td>PM</td>\n",
       "      <td>Opera/9.56.(X11; Linux x86_64; sl-SI) Presto/2...</td>\n",
       "      <td>Martinez-Herman</td>\n",
       "      <td>6011929061123406</td>\n",
       "      <td>02/20</td>\n",
       "      <td>900</td>\n",
       "      <td>JCB 16 digit</td>\n",
       "      <td>pdunlap@yahoo.com</td>\n",
       "      <td>Scientist, product/process development</td>\n",
       "      <td>149.146.147.205</td>\n",
       "      <td>el</td>\n",
       "      <td>98.14</td>\n",
       "    </tr>\n",
       "    <tr>\n",
       "      <th>1</th>\n",
       "      <td>9374 Jasmine Spurs Suite 508\\nSouth John, TN 8...</td>\n",
       "      <td>28 rn</td>\n",
       "      <td>PM</td>\n",
       "      <td>Opera/8.93.(Windows 98; Win 9x 4.90; en-US) Pr...</td>\n",
       "      <td>Fletcher, Richards and Whitaker</td>\n",
       "      <td>3337758169645356</td>\n",
       "      <td>11/18</td>\n",
       "      <td>561</td>\n",
       "      <td>Mastercard</td>\n",
       "      <td>anthony41@reed.com</td>\n",
       "      <td>Drilling engineer</td>\n",
       "      <td>15.160.41.51</td>\n",
       "      <td>fr</td>\n",
       "      <td>70.73</td>\n",
       "    </tr>\n",
       "    <tr>\n",
       "      <th>2</th>\n",
       "      <td>Unit 0065 Box 5052\\nDPO AP 27450</td>\n",
       "      <td>94 vE</td>\n",
       "      <td>PM</td>\n",
       "      <td>Mozilla/5.0 (compatible; MSIE 9.0; Windows NT ...</td>\n",
       "      <td>Simpson, Williams and Pham</td>\n",
       "      <td>675957666125</td>\n",
       "      <td>08/19</td>\n",
       "      <td>699</td>\n",
       "      <td>JCB 16 digit</td>\n",
       "      <td>amymiller@morales-harrison.com</td>\n",
       "      <td>Customer service manager</td>\n",
       "      <td>132.207.160.22</td>\n",
       "      <td>de</td>\n",
       "      <td>0.95</td>\n",
       "    </tr>\n",
       "    <tr>\n",
       "      <th>3</th>\n",
       "      <td>7780 Julia Fords\\nNew Stacy, WA 45798</td>\n",
       "      <td>36 vm</td>\n",
       "      <td>PM</td>\n",
       "      <td>Mozilla/5.0 (Macintosh; Intel Mac OS X 10_8_0 ...</td>\n",
       "      <td>Williams, Marshall and Buchanan</td>\n",
       "      <td>6011578504430710</td>\n",
       "      <td>02/24</td>\n",
       "      <td>384</td>\n",
       "      <td>Discover</td>\n",
       "      <td>brent16@olson-robinson.info</td>\n",
       "      <td>Drilling engineer</td>\n",
       "      <td>30.250.74.19</td>\n",
       "      <td>es</td>\n",
       "      <td>78.04</td>\n",
       "    </tr>\n",
       "    <tr>\n",
       "      <th>4</th>\n",
       "      <td>23012 Munoz Drive Suite 337\\nNew Cynthia, TX 5...</td>\n",
       "      <td>20 IE</td>\n",
       "      <td>AM</td>\n",
       "      <td>Opera/9.58.(X11; Linux x86_64; it-IT) Presto/2...</td>\n",
       "      <td>Brown, Watson and Andrews</td>\n",
       "      <td>6011456623207998</td>\n",
       "      <td>10/25</td>\n",
       "      <td>678</td>\n",
       "      <td>Diners Club / Carte Blanche</td>\n",
       "      <td>christopherwright@gmail.com</td>\n",
       "      <td>Fine artist</td>\n",
       "      <td>24.140.33.94</td>\n",
       "      <td>es</td>\n",
       "      <td>77.82</td>\n",
       "    </tr>\n",
       "  </tbody>\n",
       "</table>\n",
       "</div>"
      ],
      "text/plain": [
       "                                             Address    Lot AM or PM  \\\n",
       "0  16629 Pace Camp Apt. 448\\nAlexisborough, NE 77...  46 in       PM   \n",
       "1  9374 Jasmine Spurs Suite 508\\nSouth John, TN 8...  28 rn       PM   \n",
       "2                   Unit 0065 Box 5052\\nDPO AP 27450  94 vE       PM   \n",
       "3              7780 Julia Fords\\nNew Stacy, WA 45798  36 vm       PM   \n",
       "4  23012 Munoz Drive Suite 337\\nNew Cynthia, TX 5...  20 IE       AM   \n",
       "\n",
       "                                        Browser Info  \\\n",
       "0  Opera/9.56.(X11; Linux x86_64; sl-SI) Presto/2...   \n",
       "1  Opera/8.93.(Windows 98; Win 9x 4.90; en-US) Pr...   \n",
       "2  Mozilla/5.0 (compatible; MSIE 9.0; Windows NT ...   \n",
       "3  Mozilla/5.0 (Macintosh; Intel Mac OS X 10_8_0 ...   \n",
       "4  Opera/9.58.(X11; Linux x86_64; it-IT) Presto/2...   \n",
       "\n",
       "                           Company       Credit Card CC Exp Date  \\\n",
       "0                  Martinez-Herman  6011929061123406       02/20   \n",
       "1  Fletcher, Richards and Whitaker  3337758169645356       11/18   \n",
       "2       Simpson, Williams and Pham      675957666125       08/19   \n",
       "3  Williams, Marshall and Buchanan  6011578504430710       02/24   \n",
       "4        Brown, Watson and Andrews  6011456623207998       10/25   \n",
       "\n",
       "   CC Security Code                  CC Provider  \\\n",
       "0               900                 JCB 16 digit   \n",
       "1               561                   Mastercard   \n",
       "2               699                 JCB 16 digit   \n",
       "3               384                     Discover   \n",
       "4               678  Diners Club / Carte Blanche   \n",
       "\n",
       "                            Email                                     Job  \\\n",
       "0               pdunlap@yahoo.com  Scientist, product/process development   \n",
       "1              anthony41@reed.com                       Drilling engineer   \n",
       "2  amymiller@morales-harrison.com                Customer service manager   \n",
       "3     brent16@olson-robinson.info                       Drilling engineer   \n",
       "4     christopherwright@gmail.com                             Fine artist   \n",
       "\n",
       "        IP Address Language  Purchase Price  \n",
       "0  149.146.147.205       el           98.14  \n",
       "1     15.160.41.51       fr           70.73  \n",
       "2   132.207.160.22       de            0.95  \n",
       "3     30.250.74.19       es           78.04  \n",
       "4     24.140.33.94       es           77.82  "
      ]
     },
     "execution_count": 4,
     "metadata": {},
     "output_type": "execute_result"
    }
   ],
   "source": [
    "df.head()"
   ]
  },
  {
   "cell_type": "code",
   "execution_count": 5,
   "id": "946ce1e7",
   "metadata": {
    "execution": {
     "iopub.execute_input": "2022-07-18T18:38:22.782755Z",
     "iopub.status.busy": "2022-07-18T18:38:22.782029Z",
     "iopub.status.idle": "2022-07-18T18:38:22.822010Z",
     "shell.execute_reply": "2022-07-18T18:38:22.820202Z"
    },
    "papermill": {
     "duration": 0.050348,
     "end_time": "2022-07-18T18:38:22.824411",
     "exception": false,
     "start_time": "2022-07-18T18:38:22.774063",
     "status": "completed"
    },
    "tags": []
   },
   "outputs": [
    {
     "name": "stdout",
     "output_type": "stream",
     "text": [
      "<class 'pandas.core.frame.DataFrame'>\n",
      "RangeIndex: 10000 entries, 0 to 9999\n",
      "Data columns (total 14 columns):\n",
      " #   Column            Non-Null Count  Dtype  \n",
      "---  ------            --------------  -----  \n",
      " 0   Address           10000 non-null  object \n",
      " 1   Lot               10000 non-null  object \n",
      " 2   AM or PM          10000 non-null  object \n",
      " 3   Browser Info      10000 non-null  object \n",
      " 4   Company           10000 non-null  object \n",
      " 5   Credit Card       10000 non-null  int64  \n",
      " 6   CC Exp Date       10000 non-null  object \n",
      " 7   CC Security Code  10000 non-null  int64  \n",
      " 8   CC Provider       10000 non-null  object \n",
      " 9   Email             10000 non-null  object \n",
      " 10  Job               10000 non-null  object \n",
      " 11  IP Address        10000 non-null  object \n",
      " 12  Language          10000 non-null  object \n",
      " 13  Purchase Price    10000 non-null  float64\n",
      "dtypes: float64(1), int64(2), object(11)\n",
      "memory usage: 1.1+ MB\n"
     ]
    }
   ],
   "source": [
    "df.info()"
   ]
  },
  {
   "cell_type": "code",
   "execution_count": 6,
   "id": "646ae1de",
   "metadata": {
    "execution": {
     "iopub.execute_input": "2022-07-18T18:38:22.839809Z",
     "iopub.status.busy": "2022-07-18T18:38:22.838971Z",
     "iopub.status.idle": "2022-07-18T18:38:22.844977Z",
     "shell.execute_reply": "2022-07-18T18:38:22.844311Z"
    },
    "papermill": {
     "duration": 0.015597,
     "end_time": "2022-07-18T18:38:22.846846",
     "exception": false,
     "start_time": "2022-07-18T18:38:22.831249",
     "status": "completed"
    },
    "tags": []
   },
   "outputs": [
    {
     "data": {
      "text/plain": [
       "50.347302"
      ]
     },
     "execution_count": 6,
     "metadata": {},
     "output_type": "execute_result"
    }
   ],
   "source": [
    "df['Purchase Price'].mean()"
   ]
  },
  {
   "cell_type": "code",
   "execution_count": 7,
   "id": "6095dff3",
   "metadata": {
    "execution": {
     "iopub.execute_input": "2022-07-18T18:38:22.862633Z",
     "iopub.status.busy": "2022-07-18T18:38:22.861961Z",
     "iopub.status.idle": "2022-07-18T18:38:22.867655Z",
     "shell.execute_reply": "2022-07-18T18:38:22.866977Z"
    },
    "papermill": {
     "duration": 0.015848,
     "end_time": "2022-07-18T18:38:22.869673",
     "exception": false,
     "start_time": "2022-07-18T18:38:22.853825",
     "status": "completed"
    },
    "tags": []
   },
   "outputs": [
    {
     "data": {
      "text/plain": [
       "99.99"
      ]
     },
     "execution_count": 7,
     "metadata": {},
     "output_type": "execute_result"
    }
   ],
   "source": [
    "df['Purchase Price'].max()"
   ]
  },
  {
   "cell_type": "code",
   "execution_count": 8,
   "id": "ec22f0be",
   "metadata": {
    "execution": {
     "iopub.execute_input": "2022-07-18T18:38:22.886052Z",
     "iopub.status.busy": "2022-07-18T18:38:22.885433Z",
     "iopub.status.idle": "2022-07-18T18:38:22.890889Z",
     "shell.execute_reply": "2022-07-18T18:38:22.890247Z"
    },
    "papermill": {
     "duration": 0.015928,
     "end_time": "2022-07-18T18:38:22.892761",
     "exception": false,
     "start_time": "2022-07-18T18:38:22.876833",
     "status": "completed"
    },
    "tags": []
   },
   "outputs": [
    {
     "data": {
      "text/plain": [
       "0.0"
      ]
     },
     "execution_count": 8,
     "metadata": {},
     "output_type": "execute_result"
    }
   ],
   "source": [
    "df['Purchase Price'].min()"
   ]
  },
  {
   "cell_type": "code",
   "execution_count": 9,
   "id": "74417d5a",
   "metadata": {
    "execution": {
     "iopub.execute_input": "2022-07-18T18:38:22.908570Z",
     "iopub.status.busy": "2022-07-18T18:38:22.907949Z",
     "iopub.status.idle": "2022-07-18T18:38:22.922845Z",
     "shell.execute_reply": "2022-07-18T18:38:22.921863Z"
    },
    "papermill": {
     "duration": 0.025343,
     "end_time": "2022-07-18T18:38:22.925014",
     "exception": false,
     "start_time": "2022-07-18T18:38:22.899671",
     "status": "completed"
    },
    "tags": []
   },
   "outputs": [
    {
     "data": {
      "text/plain": [
       "Address             1098\n",
       "Lot                 1098\n",
       "AM or PM            1098\n",
       "Browser Info        1098\n",
       "Company             1098\n",
       "Credit Card         1098\n",
       "CC Exp Date         1098\n",
       "CC Security Code    1098\n",
       "CC Provider         1098\n",
       "Email               1098\n",
       "Job                 1098\n",
       "IP Address          1098\n",
       "Language            1098\n",
       "Purchase Price      1098\n",
       "dtype: int64"
      ]
     },
     "execution_count": 9,
     "metadata": {},
     "output_type": "execute_result"
    }
   ],
   "source": [
    "df[df['Language']=='en'].count() #How many people have English 'en' as their Language of choice on the website"
   ]
  },
  {
   "cell_type": "code",
   "execution_count": 10,
   "id": "dd864506",
   "metadata": {
    "execution": {
     "iopub.execute_input": "2022-07-18T18:38:22.941497Z",
     "iopub.status.busy": "2022-07-18T18:38:22.940937Z",
     "iopub.status.idle": "2022-07-18T18:38:22.951796Z",
     "shell.execute_reply": "2022-07-18T18:38:22.951008Z"
    },
    "papermill": {
     "duration": 0.021422,
     "end_time": "2022-07-18T18:38:22.953803",
     "exception": false,
     "start_time": "2022-07-18T18:38:22.932381",
     "status": "completed"
    },
    "tags": []
   },
   "outputs": [
    {
     "data": {
      "text/plain": [
       "Address             30\n",
       "Lot                 30\n",
       "AM or PM            30\n",
       "Browser Info        30\n",
       "Company             30\n",
       "Credit Card         30\n",
       "CC Exp Date         30\n",
       "CC Security Code    30\n",
       "CC Provider         30\n",
       "Email               30\n",
       "Job                 30\n",
       "IP Address          30\n",
       "Language            30\n",
       "Purchase Price      30\n",
       "dtype: int64"
      ]
     },
     "execution_count": 10,
     "metadata": {},
     "output_type": "execute_result"
    }
   ],
   "source": [
    "df[df['Job']=='Lawyer'].count() #job title of \"Lawyer\""
   ]
  },
  {
   "cell_type": "code",
   "execution_count": 11,
   "id": "3b18fe51",
   "metadata": {
    "execution": {
     "iopub.execute_input": "2022-07-18T18:38:22.970271Z",
     "iopub.status.busy": "2022-07-18T18:38:22.969741Z",
     "iopub.status.idle": "2022-07-18T18:38:22.978278Z",
     "shell.execute_reply": "2022-07-18T18:38:22.977420Z"
    },
    "papermill": {
     "duration": 0.019376,
     "end_time": "2022-07-18T18:38:22.980451",
     "exception": false,
     "start_time": "2022-07-18T18:38:22.961075",
     "status": "completed"
    },
    "tags": []
   },
   "outputs": [
    {
     "data": {
      "text/plain": [
       "PM    5068\n",
       "AM    4932\n",
       "Name: AM or PM, dtype: int64"
      ]
     },
     "execution_count": 11,
     "metadata": {},
     "output_type": "execute_result"
    }
   ],
   "source": [
    "df['AM or PM'].value_counts()"
   ]
  },
  {
   "cell_type": "code",
   "execution_count": 12,
   "id": "542682d6",
   "metadata": {
    "execution": {
     "iopub.execute_input": "2022-07-18T18:38:22.997419Z",
     "iopub.status.busy": "2022-07-18T18:38:22.997027Z",
     "iopub.status.idle": "2022-07-18T18:38:23.006731Z",
     "shell.execute_reply": "2022-07-18T18:38:23.005638Z"
    },
    "papermill": {
     "duration": 0.020755,
     "end_time": "2022-07-18T18:38:23.008641",
     "exception": false,
     "start_time": "2022-07-18T18:38:22.987886",
     "status": "completed"
    },
    "tags": []
   },
   "outputs": [
    {
     "data": {
      "text/plain": [
       "Interior and spatial designer    31\n",
       "Lawyer                           30\n",
       "Social researcher                28\n",
       "Purchasing manager               27\n",
       "Designer, jewellery              27\n",
       "Name: Job, dtype: int64"
      ]
     },
     "execution_count": 12,
     "metadata": {},
     "output_type": "execute_result"
    }
   ],
   "source": [
    "df['Job'].value_counts().head()# the 5 most common Job Titles"
   ]
  },
  {
   "cell_type": "code",
   "execution_count": 13,
   "id": "b8f5a240",
   "metadata": {
    "execution": {
     "iopub.execute_input": "2022-07-18T18:38:23.025839Z",
     "iopub.status.busy": "2022-07-18T18:38:23.025455Z",
     "iopub.status.idle": "2022-07-18T18:38:23.035845Z",
     "shell.execute_reply": "2022-07-18T18:38:23.034912Z"
    },
    "papermill": {
     "duration": 0.021596,
     "end_time": "2022-07-18T18:38:23.037832",
     "exception": false,
     "start_time": "2022-07-18T18:38:23.016236",
     "status": "completed"
    },
    "tags": []
   },
   "outputs": [
    {
     "data": {
      "text/plain": [
       "513    75.1\n",
       "Name: Purchase Price, dtype: float64"
      ]
     },
     "execution_count": 13,
     "metadata": {},
     "output_type": "execute_result"
    }
   ],
   "source": [
    "df[df['Lot']=='90 WT']['Purchase Price']"
   ]
  },
  {
   "cell_type": "code",
   "execution_count": 14,
   "id": "96f3a696",
   "metadata": {
    "execution": {
     "iopub.execute_input": "2022-07-18T18:38:23.055415Z",
     "iopub.status.busy": "2022-07-18T18:38:23.054587Z",
     "iopub.status.idle": "2022-07-18T18:38:23.061555Z",
     "shell.execute_reply": "2022-07-18T18:38:23.060642Z"
    },
    "papermill": {
     "duration": 0.018024,
     "end_time": "2022-07-18T18:38:23.063604",
     "exception": false,
     "start_time": "2022-07-18T18:38:23.045580",
     "status": "completed"
    },
    "tags": []
   },
   "outputs": [
    {
     "data": {
      "text/plain": [
       "Index(['Address', 'Lot', 'AM or PM', 'Browser Info', 'Company', 'Credit Card',\n",
       "       'CC Exp Date', 'CC Security Code', 'CC Provider', 'Email', 'Job',\n",
       "       'IP Address', 'Language', 'Purchase Price'],\n",
       "      dtype='object')"
      ]
     },
     "execution_count": 14,
     "metadata": {},
     "output_type": "execute_result"
    }
   ],
   "source": [
    "df.columns"
   ]
  },
  {
   "cell_type": "code",
   "execution_count": 15,
   "id": "3601187b",
   "metadata": {
    "execution": {
     "iopub.execute_input": "2022-07-18T18:38:23.081575Z",
     "iopub.status.busy": "2022-07-18T18:38:23.081032Z",
     "iopub.status.idle": "2022-07-18T18:38:23.088390Z",
     "shell.execute_reply": "2022-07-18T18:38:23.087459Z"
    },
    "papermill": {
     "duration": 0.018948,
     "end_time": "2022-07-18T18:38:23.090447",
     "exception": false,
     "start_time": "2022-07-18T18:38:23.071499",
     "status": "completed"
    },
    "tags": []
   },
   "outputs": [
    {
     "data": {
      "text/plain": [
       "1234    bondellen@williams-garza.com\n",
       "Name: Email, dtype: object"
      ]
     },
     "execution_count": 15,
     "metadata": {},
     "output_type": "execute_result"
    }
   ],
   "source": [
    "df[df['Credit Card']==4926535242672853]['Email']"
   ]
  },
  {
   "cell_type": "code",
   "execution_count": 16,
   "id": "e577aa09",
   "metadata": {
    "execution": {
     "iopub.execute_input": "2022-07-18T18:38:23.108193Z",
     "iopub.status.busy": "2022-07-18T18:38:23.107576Z",
     "iopub.status.idle": "2022-07-18T18:38:23.118988Z",
     "shell.execute_reply": "2022-07-18T18:38:23.118121Z"
    },
    "papermill": {
     "duration": 0.022584,
     "end_time": "2022-07-18T18:38:23.120975",
     "exception": false,
     "start_time": "2022-07-18T18:38:23.098391",
     "status": "completed"
    },
    "tags": []
   },
   "outputs": [
    {
     "data": {
      "text/plain": [
       "Address             39\n",
       "Lot                 39\n",
       "AM or PM            39\n",
       "Browser Info        39\n",
       "Company             39\n",
       "Credit Card         39\n",
       "CC Exp Date         39\n",
       "CC Security Code    39\n",
       "CC Provider         39\n",
       "Email               39\n",
       "Job                 39\n",
       "IP Address          39\n",
       "Language            39\n",
       "Purchase Price      39\n",
       "dtype: int64"
      ]
     },
     "execution_count": 16,
     "metadata": {},
     "output_type": "execute_result"
    }
   ],
   "source": [
    "df[(df['CC Provider']=='American Express')&(df['Purchase Price']>95)].count()"
   ]
  },
  {
   "cell_type": "code",
   "execution_count": 17,
   "id": "1c16b70a",
   "metadata": {
    "execution": {
     "iopub.execute_input": "2022-07-18T18:38:23.138956Z",
     "iopub.status.busy": "2022-07-18T18:38:23.138319Z",
     "iopub.status.idle": "2022-07-18T18:38:23.161899Z",
     "shell.execute_reply": "2022-07-18T18:38:23.161213Z"
    },
    "papermill": {
     "duration": 0.035322,
     "end_time": "2022-07-18T18:38:23.164296",
     "exception": false,
     "start_time": "2022-07-18T18:38:23.128974",
     "status": "completed"
    },
    "tags": []
   },
   "outputs": [
    {
     "name": "stdout",
     "output_type": "stream",
     "text": [
      "<class 'pandas.core.frame.DataFrame'>\n",
      "RangeIndex: 10000 entries, 0 to 9999\n",
      "Data columns (total 14 columns):\n",
      " #   Column            Non-Null Count  Dtype  \n",
      "---  ------            --------------  -----  \n",
      " 0   Address           10000 non-null  object \n",
      " 1   Lot               10000 non-null  object \n",
      " 2   AM or PM          10000 non-null  object \n",
      " 3   Browser Info      10000 non-null  object \n",
      " 4   Company           10000 non-null  object \n",
      " 5   Credit Card       10000 non-null  int64  \n",
      " 6   CC Exp Date       10000 non-null  object \n",
      " 7   CC Security Code  10000 non-null  int64  \n",
      " 8   CC Provider       10000 non-null  object \n",
      " 9   Email             10000 non-null  object \n",
      " 10  Job               10000 non-null  object \n",
      " 11  IP Address        10000 non-null  object \n",
      " 12  Language          10000 non-null  object \n",
      " 13  Purchase Price    10000 non-null  float64\n",
      "dtypes: float64(1), int64(2), object(11)\n",
      "memory usage: 1.1+ MB\n"
     ]
    }
   ],
   "source": [
    "df.info()"
   ]
  },
  {
   "cell_type": "code",
   "execution_count": 18,
   "id": "5d73e3be",
   "metadata": {
    "execution": {
     "iopub.execute_input": "2022-07-18T18:38:23.182599Z",
     "iopub.status.busy": "2022-07-18T18:38:23.181935Z",
     "iopub.status.idle": "2022-07-18T18:38:23.187509Z",
     "shell.execute_reply": "2022-07-18T18:38:23.186381Z"
    },
    "papermill": {
     "duration": 0.017053,
     "end_time": "2022-07-18T18:38:23.189539",
     "exception": false,
     "start_time": "2022-07-18T18:38:23.172486",
     "status": "completed"
    },
    "tags": []
   },
   "outputs": [
    {
     "data": {
      "text/plain": [
       "'08/19'"
      ]
     },
     "execution_count": 18,
     "metadata": {},
     "output_type": "execute_result"
    }
   ],
   "source": [
    "df['CC Exp Date'][2]"
   ]
  },
  {
   "cell_type": "code",
   "execution_count": 19,
   "id": "310409f1",
   "metadata": {
    "execution": {
     "iopub.execute_input": "2022-07-18T18:38:23.207823Z",
     "iopub.status.busy": "2022-07-18T18:38:23.207113Z",
     "iopub.status.idle": "2022-07-18T18:38:23.222729Z",
     "shell.execute_reply": "2022-07-18T18:38:23.222097Z"
    },
    "papermill": {
     "duration": 0.027027,
     "end_time": "2022-07-18T18:38:23.224717",
     "exception": false,
     "start_time": "2022-07-18T18:38:23.197690",
     "status": "completed"
    },
    "tags": []
   },
   "outputs": [
    {
     "data": {
      "text/plain": [
       "Address             1033\n",
       "Lot                 1033\n",
       "AM or PM            1033\n",
       "Browser Info        1033\n",
       "Company             1033\n",
       "Credit Card         1033\n",
       "CC Exp Date         1033\n",
       "CC Security Code    1033\n",
       "CC Provider         1033\n",
       "Email               1033\n",
       "Job                 1033\n",
       "IP Address          1033\n",
       "Language            1033\n",
       "Purchase Price      1033\n",
       "dtype: int64"
      ]
     },
     "execution_count": 19,
     "metadata": {},
     "output_type": "execute_result"
    }
   ],
   "source": [
    "df[df['CC Exp Date'].apply(lambda x : x[3:]=='25')].count()#How many people have a credit card that expires in 2025"
   ]
  },
  {
   "cell_type": "code",
   "execution_count": 20,
   "id": "4e1c1ab8",
   "metadata": {
    "execution": {
     "iopub.execute_input": "2022-07-18T18:38:23.243686Z",
     "iopub.status.busy": "2022-07-18T18:38:23.243058Z",
     "iopub.status.idle": "2022-07-18T18:38:23.259291Z",
     "shell.execute_reply": "2022-07-18T18:38:23.258607Z"
    },
    "papermill": {
     "duration": 0.02794,
     "end_time": "2022-07-18T18:38:23.261310",
     "exception": false,
     "start_time": "2022-07-18T18:38:23.233370",
     "status": "completed"
    },
    "tags": []
   },
   "outputs": [
    {
     "data": {
      "text/plain": [
       "hotmail.com     1638\n",
       "yahoo.com       1616\n",
       "gmail.com       1605\n",
       "smith.com         42\n",
       "williams.com      37\n",
       "Name: Email, dtype: int64"
      ]
     },
     "execution_count": 20,
     "metadata": {},
     "output_type": "execute_result"
    }
   ],
   "source": [
    "df['Email'].apply(lambda x: x.split('@')[1]).value_counts().head() #What are the top 5 most popular email providers/hosts (e.g. gmail.com, yahoo.com, etc...) "
   ]
  },
  {
   "cell_type": "code",
   "execution_count": null,
   "id": "b300eaa3",
   "metadata": {
    "papermill": {
     "duration": 0.00834,
     "end_time": "2022-07-18T18:38:23.278215",
     "exception": false,
     "start_time": "2022-07-18T18:38:23.269875",
     "status": "completed"
    },
    "tags": []
   },
   "outputs": [],
   "source": []
  }
 ],
 "metadata": {
  "kernelspec": {
   "display_name": "Python 3",
   "language": "python",
   "name": "python3"
  },
  "language_info": {
   "codemirror_mode": {
    "name": "ipython",
    "version": 3
   },
   "file_extension": ".py",
   "mimetype": "text/x-python",
   "name": "python",
   "nbconvert_exporter": "python",
   "pygments_lexer": "ipython3",
   "version": "3.7.12"
  },
  "papermill": {
   "default_parameters": {},
   "duration": 11.430701,
   "end_time": "2022-07-18T18:38:23.907569",
   "environment_variables": {},
   "exception": null,
   "input_path": "__notebook__.ipynb",
   "output_path": "__notebook__.ipynb",
   "parameters": {},
   "start_time": "2022-07-18T18:38:12.476868",
   "version": "2.3.4"
  }
 },
 "nbformat": 4,
 "nbformat_minor": 5
}
